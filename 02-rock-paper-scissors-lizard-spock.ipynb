{
 "cells": [
  {
   "cell_type": "markdown",
   "metadata": {},
   "source": [
    "# Rock, Paper, Scissors, Lizard & Spock\n",
    "![](images/rpsls.jpg)\n",
    "\n",
    "In this challenge, you need to improve the previous game by adding two new options. To know more about the rules of the improved version of rock, paper, scissors, check this [link](http://www.samkass.com/theories/RPSSL.html). \n",
    "\n",
    "In addition, you will also need to improve how the game interacts with the player: the number of rounds to play, which must be an odd number, will be requested to the user until a valid number is entered. Define a new function to make that request.\n",
    "\n",
    "**Hint**: Try to reuse the code that you already coded in the previous challenge. If your code is efficient, this bonus will only consist of simple modifications to the original game."
   ]
  },
  {
   "cell_type": "code",
   "execution_count": 1,
   "metadata": {},
   "outputs": [
    {
     "name": "stdout",
     "output_type": "stream",
     "text": [
      "Elige una opción de las tres: 'rock' - 'paper' - 'scissor' -'lizard' - 'spock':paper\n"
     ]
    },
    {
     "data": {
      "text/plain": [
       "'paper'"
      ]
     },
     "execution_count": 1,
     "metadata": {},
     "output_type": "execute_result"
    }
   ],
   "source": [
    "import random\n",
    "gestures =['rock','paper','scissor','lizard','spock']\n",
    "n_rounds= 3\n",
    "cpu_score = 0\n",
    "player_score = 0\n",
    "\n",
    "\n",
    "def opcion_cpu():\n",
    "    azar = random.choice(gestures)\n",
    "    return azar\n",
    "\n",
    "opcion_cpu()\n",
    "\n",
    "def opcion_player():\n",
    "    pregunta = (input(\"Elige una opción de las tres: 'rock' - 'paper' - 'scissor' -'lizard' - 'spock':\")).lower()\n",
    "    \n",
    "    while pregunta not in gestures:\n",
    "        print(\"Elige una opción válida\")\n",
    "        pregunta = (input(\"Elige una opción de las tres: 'rock' - 'paper' - 'scissor' -'lizard' - 'spock:\")).lower()\n",
    "        \n",
    "    return pregunta\n",
    "\n",
    "                    \n",
    "opcion_player()\n",
    "\n"
   ]
  },
  {
   "cell_type": "code",
   "execution_count": 2,
   "metadata": {},
   "outputs": [],
   "source": [
    "def who_wins(opcion_player,opcion_cpu):\n",
    "    player_gesture_choice = opcion_player()\n",
    "    cpu_gesture_choice = opcion_cpu()\n",
    "    \n",
    "    if cpu_gesture_choice == \"rock\":\n",
    "        if player_gesture_choice == \"rock\":\n",
    "            result = 0\n",
    "        if player_gesture_choice == \"paper\":\n",
    "            result = 2\n",
    "        if player_gesture_choice == \"scissor\":\n",
    "            result = 1\n",
    "        if player_gesture_choice == \"spock\":\n",
    "            result = 2\n",
    "        if player_gesture_choice == \"lizard\":\n",
    "            result = 1\n",
    "        \n",
    "    if cpu_gesture_choice == \"paper\":\n",
    "        if player_gesture_choice == \"rock\":\n",
    "            result = 1\n",
    "        if player_gesture_choice == \"paper\":\n",
    "            result = 0\n",
    "        if player_gesture_choice == \"scissor\":\n",
    "            result = 2\n",
    "        if player_gesture_choice == \"spock\":\n",
    "            result = 1\n",
    "        if player_gesture_choice == \"lizard\":\n",
    "            result = 2\n",
    "            \n",
    "    if cpu_gesture_choice == \"scissor\":\n",
    "        if player_gesture_choice == \"rock\":\n",
    "            result = 2\n",
    "        if player_gesture_choice == \"paper\":\n",
    "            result = 1\n",
    "        if player_gesture_choice == \"scissor\":\n",
    "            result = 0\n",
    "        if player_gesture_choice == \"spock\":\n",
    "            result = 2\n",
    "        if player_gesture_choice == \"lizard\":\n",
    "            result = 1\n",
    "    \n",
    "    if cpu_gesture_choice == \"lizard\":\n",
    "        if player_gesture_choice == \"rock\":\n",
    "            result = 1\n",
    "        if player_gesture_choice == \"paper\":\n",
    "            result = 2\n",
    "        if player_gesture_choice == \"scissor\":\n",
    "            result = 1\n",
    "        if player_gesture_choice == \"spock\":\n",
    "            result = 0\n",
    "        if player_gesture_choice == \"lizard\":\n",
    "            result = 1\n",
    "            \n",
    "    print(f\"Has sacado: {player_gesture_choice}\")\n",
    "    print(f\"El CPU ha sacado: {cpu_gesture_choice}\")\n",
    "    return result"
   ]
  },
  {
   "cell_type": "code",
   "execution_count": 3,
   "metadata": {},
   "outputs": [
    {
     "name": "stdout",
     "output_type": "stream",
     "text": [
      "Elige una opción de las tres: 'rock' - 'paper' - 'scissor' -'lizard' - 'spock':scissor\n",
      "Has sacado: scissor\n",
      "El CPU ha sacado: paper\n",
      "Pierde la cpu\n",
      "El jugador lleva 1 punto/s\n",
      "Elige una opción de las tres: 'rock' - 'paper' - 'scissor' -'lizard' - 'spock':paper\n",
      "Has sacado: paper\n",
      "El CPU ha sacado: paper\n",
      "empate\n",
      "Elige una opción de las tres: 'rock' - 'paper' - 'scissor' -'lizard' - 'spock':paper\n",
      "Has sacado: paper\n",
      "El CPU ha sacado: spock\n"
     ]
    },
    {
     "ename": "UnboundLocalError",
     "evalue": "local variable 'result' referenced before assignment",
     "output_type": "error",
     "traceback": [
      "\u001b[0;31m---------------------------------------------------------------------------\u001b[0m",
      "\u001b[0;31mUnboundLocalError\u001b[0m                         Traceback (most recent call last)",
      "\u001b[0;32m<ipython-input-3-0606be8c508d>\u001b[0m in \u001b[0;36m<module>\u001b[0;34m\u001b[0m\n\u001b[1;32m      1\u001b[0m \u001b[0;32mwhile\u001b[0m \u001b[0;34m(\u001b[0m\u001b[0mcpu_score\u001b[0m \u001b[0;34m+\u001b[0m \u001b[0mplayer_score\u001b[0m\u001b[0;34m)\u001b[0m \u001b[0;34m<\u001b[0m \u001b[0mn_rounds\u001b[0m\u001b[0;34m:\u001b[0m\u001b[0;34m\u001b[0m\u001b[0;34m\u001b[0m\u001b[0m\n\u001b[0;32m----> 2\u001b[0;31m     \u001b[0mwin\u001b[0m \u001b[0;34m=\u001b[0m \u001b[0mwho_wins\u001b[0m\u001b[0;34m(\u001b[0m\u001b[0mopcion_player\u001b[0m\u001b[0;34m,\u001b[0m\u001b[0mopcion_cpu\u001b[0m\u001b[0;34m)\u001b[0m\u001b[0;34m\u001b[0m\u001b[0;34m\u001b[0m\u001b[0m\n\u001b[0m\u001b[1;32m      3\u001b[0m     \u001b[0;32mif\u001b[0m \u001b[0mwin\u001b[0m \u001b[0;34m==\u001b[0m \u001b[0;36m1\u001b[0m\u001b[0;34m:\u001b[0m\u001b[0;34m\u001b[0m\u001b[0;34m\u001b[0m\u001b[0m\n\u001b[1;32m      4\u001b[0m         \u001b[0mprint\u001b[0m\u001b[0;34m(\u001b[0m\u001b[0;34m\"Pierdes tu\"\u001b[0m\u001b[0;34m)\u001b[0m\u001b[0;34m\u001b[0m\u001b[0;34m\u001b[0m\u001b[0m\n\u001b[1;32m      5\u001b[0m         \u001b[0mcpu_score\u001b[0m \u001b[0;34m+=\u001b[0m \u001b[0;36m1\u001b[0m\u001b[0;34m\u001b[0m\u001b[0;34m\u001b[0m\u001b[0m\n",
      "\u001b[0;32m<ipython-input-2-c5733bf8dced>\u001b[0m in \u001b[0;36mwho_wins\u001b[0;34m(opcion_player, opcion_cpu)\u001b[0m\n\u001b[1;32m     53\u001b[0m     \u001b[0mprint\u001b[0m\u001b[0;34m(\u001b[0m\u001b[0;34mf\"Has sacado: {player_gesture_choice}\"\u001b[0m\u001b[0;34m)\u001b[0m\u001b[0;34m\u001b[0m\u001b[0;34m\u001b[0m\u001b[0m\n\u001b[1;32m     54\u001b[0m     \u001b[0mprint\u001b[0m\u001b[0;34m(\u001b[0m\u001b[0;34mf\"El CPU ha sacado: {cpu_gesture_choice}\"\u001b[0m\u001b[0;34m)\u001b[0m\u001b[0;34m\u001b[0m\u001b[0;34m\u001b[0m\u001b[0m\n\u001b[0;32m---> 55\u001b[0;31m     \u001b[0;32mreturn\u001b[0m \u001b[0mresult\u001b[0m\u001b[0;34m\u001b[0m\u001b[0;34m\u001b[0m\u001b[0m\n\u001b[0m",
      "\u001b[0;31mUnboundLocalError\u001b[0m: local variable 'result' referenced before assignment"
     ]
    }
   ],
   "source": [
    "while (cpu_score + player_score) < n_rounds:\n",
    "    win = who_wins(opcion_player,opcion_cpu)\n",
    "    if win == 1:\n",
    "        print(\"Pierdes tu\")\n",
    "        cpu_score += 1\n",
    "        print(f\"La CPU lleva {cpu_score} punto/s\")\n",
    "    elif win == 2:\n",
    "        print(\"Pierde la cpu\")\n",
    "        player_score += 1\n",
    "        print(f\"El jugador lleva {player_score} punto/s\")\n",
    "    else:\n",
    "        print(\"empate\")\n",
    "        \n"
   ]
  },
  {
   "cell_type": "code",
   "execution_count": 4,
   "metadata": {},
   "outputs": [
    {
     "name": "stdout",
     "output_type": "stream",
     "text": [
      "EL GANADOR FINAL ES EL PLAYER\n"
     ]
    }
   ],
   "source": [
    "if cpu_score > player_score:\n",
    "    print(\"EL GANADOR FINAL ES LA CPU\")\n",
    "else:\n",
    "    print(\"EL GANADOR FINAL ES EL PLAYER\")"
   ]
  },
  {
   "cell_type": "code",
   "execution_count": null,
   "metadata": {},
   "outputs": [],
   "source": []
  }
 ],
 "metadata": {
  "kernelspec": {
   "display_name": "Python 3",
   "language": "python",
   "name": "python3"
  },
  "language_info": {
   "codemirror_mode": {
    "name": "ipython",
    "version": 3
   },
   "file_extension": ".py",
   "mimetype": "text/x-python",
   "name": "python",
   "nbconvert_exporter": "python",
   "pygments_lexer": "ipython3",
   "version": "3.8.5"
  },
  "toc": {
   "base_numbering": 1,
   "nav_menu": {},
   "number_sections": true,
   "sideBar": true,
   "skip_h1_title": false,
   "title_cell": "Table of Contents",
   "title_sidebar": "Contents",
   "toc_cell": false,
   "toc_position": {},
   "toc_section_display": true,
   "toc_window_display": false
  }
 },
 "nbformat": 4,
 "nbformat_minor": 5
}
