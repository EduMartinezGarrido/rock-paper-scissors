{
 "cells": [
  {
   "cell_type": "markdown",
   "metadata": {},
   "source": [
    "<img src=\"https://bit.ly/2VnXWr2\" width=\"100\" align=\"left\">"
   ]
  },
  {
   "cell_type": "markdown",
   "metadata": {},
   "source": [
    "# Rock, Paper & Scissors\n",
    "\n",
    "Let's play the famous game against our computer. You can check the rules [here](https://en.wikipedia.org/wiki/Rock%E2%80%93paper%E2%80%93scissors). \n",
    "\n",
    "## Task\n",
    "Create a program that imitates the playability of the well known game of rock, paper, scissors. Follow the guidelines provided.\n",
    "\n",
    "## Tools\n",
    "1. Loop: **for/while**\n",
    "2. Functions: **input(), print()...**\n",
    "3. Conditional statements: **if, elif, else**\n",
    "4. Definition of functions. Modular programming\n",
    "5. Import modules\n",
    "\n",
    "**To solve this challenge, the use of functions is recommended.**\n",
    "\n",
    "#### 1. Import the choice function of the random module."
   ]
  },
  {
   "cell_type": "code",
   "execution_count": 1,
   "metadata": {},
   "outputs": [],
   "source": [
    "import random\n"
   ]
  },
  {
   "cell_type": "markdown",
   "metadata": {},
   "source": [
    "#### 2. Create a list that includes the 3 possible gesture options of the game: 'rock', 'paper' or 'scissors'. Store the list in a variable called `gestures`."
   ]
  },
  {
   "cell_type": "code",
   "execution_count": 2,
   "metadata": {},
   "outputs": [],
   "source": [
    "gestures =['rock','paper','scissor']"
   ]
  },
  {
   "cell_type": "markdown",
   "metadata": {},
   "source": [
    "#### 3. Create a variable called `n_rounds` to store the maximum number of rounds to play in a game. \n",
    "Remember that the number of rounds must be odd: 1, 3, 5, ..."
   ]
  },
  {
   "cell_type": "code",
   "execution_count": 3,
   "metadata": {},
   "outputs": [],
   "source": [
    "n_rounds= 3"
   ]
  },
  {
   "cell_type": "markdown",
   "metadata": {},
   "source": [
    "#### 4. Create a variable called `rounds_to_win` to store the number of rounds that a player must win to win the game.\n",
    "**Hint**: the value stored in `rounds_to_win` depends on the value of `n_rounds`. "
   ]
  },
  {
   "cell_type": "code",
   "execution_count": 4,
   "metadata": {},
   "outputs": [],
   "source": [
    "rounds_to_win = 3"
   ]
  },
  {
   "cell_type": "markdown",
   "metadata": {},
   "source": [
    "#### 5. Create two variables to store the number of rounds that the computer and the player have won. Call these variables `cpu_score` and `player_score`."
   ]
  },
  {
   "cell_type": "code",
   "execution_count": 5,
   "metadata": {},
   "outputs": [],
   "source": [
    "cpu_score = 0\n",
    "player_score = 0"
   ]
  },
  {
   "cell_type": "markdown",
   "metadata": {},
   "source": [
    "#### 6. Define a function that randomly returns one of the 3 gesture options.\n",
    "You will use this function to simulate the gesture choice of the computer. "
   ]
  },
  {
   "cell_type": "code",
   "execution_count": 6,
   "metadata": {},
   "outputs": [
    {
     "data": {
      "text/plain": [
       "'rock'"
      ]
     },
     "execution_count": 6,
     "metadata": {},
     "output_type": "execute_result"
    }
   ],
   "source": [
    "import random\n",
    "def opcion_cpu():\n",
    "    azar = random.choice(gestures)\n",
    "    return azar\n",
    "\n",
    "opcion_cpu()"
   ]
  },
  {
   "cell_type": "markdown",
   "metadata": {},
   "source": [
    "#### 7. Define a function that asks the player which is the gesture he or she wants to show: 'rock', 'paper' or 'scissors'.\n",
    "The player should only be allowed to choose one of the 3 gesture options. If the player's choice is not rock, paper or scissors, keep asking until it is."
   ]
  },
  {
   "cell_type": "code",
   "execution_count": 7,
   "metadata": {},
   "outputs": [
    {
     "name": "stdout",
     "output_type": "stream",
     "text": [
      "Elige una opción de las tres: 'rock' - 'paper' - 'scissor':paper\n"
     ]
    },
    {
     "data": {
      "text/plain": [
       "'paper'"
      ]
     },
     "execution_count": 7,
     "metadata": {},
     "output_type": "execute_result"
    }
   ],
   "source": [
    "def opcion_player():\n",
    "    pregunta = (input(\"Elige una opción de las tres: 'rock' - 'paper' - 'scissor':\")).lower()\n",
    "    \n",
    "    while pregunta not in gestures:\n",
    "        print(\"Elige una opción válida\")\n",
    "        pregunta = (input(\"Elige una opción de las tres: 'rock' - 'paper' - 'scissor':\")).lower()\n",
    "        \n",
    "    return pregunta\n",
    "\n",
    "                    \n",
    "opcion_player()"
   ]
  },
  {
   "cell_type": "markdown",
   "metadata": {},
   "source": [
    "# 8. Define a function that checks who won a round. \n",
    "The function should return 0 if there is a tie, 1 if the computer wins and 2 if the player wins."
   ]
  },
  {
   "cell_type": "code",
   "execution_count": 8,
   "metadata": {
    "scrolled": false
   },
   "outputs": [],
   "source": [
    "def who_wins(opcion_player,opcion_cpu):\n",
    "    player_gesture_choice = opcion_player()\n",
    "    cpu_gesture_choice = opcion_cpu()\n",
    "    \n",
    "    if cpu_gesture_choice == \"rock\":\n",
    "        if player_gesture_choice == \"rock\":\n",
    "            result = 0\n",
    "        if player_gesture_choice == \"paper\":\n",
    "            result = 2\n",
    "        if player_gesture_choice == \"scissor\":\n",
    "            result = 1\n",
    "        \n",
    "    if cpu_gesture_choice == \"paper\":\n",
    "        if player_gesture_choice == \"rock\":\n",
    "            result = 1\n",
    "        if player_gesture_choice == \"paper\":\n",
    "            result = 0\n",
    "        if player_gesture_choice == \"scissor\":\n",
    "            result = 2\n",
    "            \n",
    "    if cpu_gesture_choice == \"scissor\":\n",
    "        if player_gesture_choice == \"rock\":\n",
    "            result = 2\n",
    "        if player_gesture_choice == \"paper\":\n",
    "            result = 1\n",
    "        if player_gesture_choice == \"scissor\":\n",
    "            result = 0\n",
    "            \n",
    "    print(f\"Has sacado: {player_gesture_choice}\")\n",
    "    print(f\"El CPU ha sacado: {cpu_gesture_choice}\")\n",
    "    return result\n",
    "\n",
    "\n",
    "\n"
   ]
  },
  {
   "cell_type": "code",
   "execution_count": 9,
   "metadata": {
    "scrolled": true
   },
   "outputs": [
    {
     "name": "stdout",
     "output_type": "stream",
     "text": [
      "Elige una opción de las tres: 'rock' - 'paper' - 'scissor':paper\n",
      "Has sacado: paper\n",
      "El CPU ha sacado: rock\n"
     ]
    },
    {
     "data": {
      "text/plain": [
       "2"
      ]
     },
     "execution_count": 9,
     "metadata": {},
     "output_type": "execute_result"
    }
   ],
   "source": [
    "who_wins(opcion_player,opcion_cpu)"
   ]
  },
  {
   "cell_type": "markdown",
   "metadata": {},
   "source": [
    "#### 9. Define a function that prints the choice of the computer, the choice of the player and a message that announces who won the current round. \n",
    "You should also use this function to update the variables that count the number of rounds that the computer and the player have won. The score of the winner increases by one point. If there is a tie, the score does not increase."
   ]
  },
  {
   "cell_type": "code",
   "execution_count": null,
   "metadata": {},
   "outputs": [],
   "source": []
  },
  {
   "cell_type": "markdown",
   "metadata": {},
   "source": [
    "#### 10. Now it's time to code the execution of the game using the functions and variables you defined above. \n",
    "\n",
    "First, create a loop structure that repeats while no player reaches the minimum score necessary to win and the number of rounds is less than the maximum number of rounds to play in a game.  \n",
    "\n",
    "Inside the loop, use the functions and variables above to create the execution of a round: ask for the player's choice, generate the random choice of the computer, show the round results, update the scores, etc. "
   ]
  },
  {
   "cell_type": "code",
   "execution_count": 11,
   "metadata": {},
   "outputs": [
    {
     "name": "stdout",
     "output_type": "stream",
     "text": [
      "Elige una opción de las tres: 'rock' - 'paper' - 'scissor':rock\n",
      "Has sacado: rock\n",
      "El CPU ha sacado: scissor\n",
      "Pierde la cpu\n",
      "El jugasdor lleva 1\n",
      "Elige una opción de las tres: 'rock' - 'paper' - 'scissor':paper\n",
      "Has sacado: paper\n",
      "El CPU ha sacado: scissor\n",
      "Pierdes tu\n",
      "La CPU lleva 1\n",
      "Elige una opción de las tres: 'rock' - 'paper' - 'scissor':rock\n",
      "Has sacado: rock\n",
      "El CPU ha sacado: rock\n",
      "empate\n",
      "Elige una opción de las tres: 'rock' - 'paper' - 'scissor':rock\n",
      "Has sacado: rock\n",
      "El CPU ha sacado: scissor\n",
      "Pierde la cpu\n",
      "El jugasdor lleva 2\n"
     ]
    }
   ],
   "source": [
    "while (cpu_score + player_score) < n_rounds:\n",
    "    win = who_wins(opcion_player,opcion_cpu)\n",
    "    if win == 1:\n",
    "        print(\"Pierdes tu\")\n",
    "        cpu_score += 1\n",
    "        print(f\"La CPU lleva {cpu_score} punto/s\")\n",
    "    elif win == 2:\n",
    "        print(\"Pierde la cpu\")\n",
    "        player_score += 1\n",
    "        print(f\"El jugador lleva {player_score} punto/s\")\n",
    "    else:\n",
    "        print(\"empate\")\n",
    "\n",
    "    "
   ]
  },
  {
   "cell_type": "markdown",
   "metadata": {},
   "source": [
    "#### 11. Print the winner of the game based on who won more rounds.\n",
    "Remember that the game might be tied. "
   ]
  },
  {
   "cell_type": "code",
   "execution_count": 12,
   "metadata": {},
   "outputs": [
    {
     "name": "stdout",
     "output_type": "stream",
     "text": [
      "EL GANADOR FINAL ES EL PLAYER\n"
     ]
    }
   ],
   "source": [
    "if cpu_score > player_score:\n",
    "    print(\"EL GANADOR FINAL ES LA CPU\")\n",
    "else:\n",
    "    print(\"EL GANADOR FINAL ES EL PLAYER\")"
   ]
  },
  {
   "cell_type": "code",
   "execution_count": null,
   "metadata": {},
   "outputs": [],
   "source": []
  }
 ],
 "metadata": {
  "kernelspec": {
   "display_name": "Python 3",
   "language": "python",
   "name": "python3"
  },
  "language_info": {
   "codemirror_mode": {
    "name": "ipython",
    "version": 3
   },
   "file_extension": ".py",
   "mimetype": "text/x-python",
   "name": "python",
   "nbconvert_exporter": "python",
   "pygments_lexer": "ipython3",
   "version": "3.8.5"
  }
 },
 "nbformat": 4,
 "nbformat_minor": 2
}
